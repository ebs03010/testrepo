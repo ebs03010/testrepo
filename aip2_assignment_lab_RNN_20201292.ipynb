{
  "nbformat": 4,
  "nbformat_minor": 0,
  "metadata": {
    "colab": {
      "name": "aip2_assignment_lab_RNN_20201292.ipynb",
      "provenance": []
    },
    "kernelspec": {
      "name": "python3",
      "display_name": "Python 3"
    },
    "language_info": {
      "name": "python"
    },
    "accelerator": "GPU"
  },
  "cells": [
    {
      "cell_type": "code",
      "metadata": {
        "id": "Y4qXRIMIcxdL"
      },
      "source": [
        "import numpy as np\n",
        "import keras\n",
        "import tensorflow as tf\n",
        "import matplotlib as mpl\n",
        "import matplotlib.pyplot as plt"
      ],
      "execution_count": 1,
      "outputs": []
    },
    {
      "cell_type": "code",
      "metadata": {
        "id": "gW-BsxzqiGGw"
      },
      "source": [
        "def generate_time_series(batch_size, n_steps):\n",
        "  freq1, freq2, offsets1, offsets2 = np.random.rand(4, batch_size, 1)\n",
        "  time = np.linspace(0, 1, n_steps)\n",
        "  series = 0.5 * np.sin((time - offsets1) * (freq1 * 10 + 10)) # wave 1\n",
        "  series += 0.2 * np.sin((time - offsets2) * (freq2 * 20 + 20)) # + wave 2\n",
        "  series += 0.1 * (np.random.rand(batch_size, n_steps) - 0.5) # + noise\n",
        "  return series[..., np.newaxis].astype(np.float32) # same as series[:, :, np.newaxis].astype(np.float32)"
      ],
      "execution_count": 2,
      "outputs": []
    },
    {
      "cell_type": "code",
      "metadata": {
        "colab": {
          "base_uri": "https://localhost:8080/"
        },
        "id": "RCQo2W8Tcr3f",
        "outputId": "180fe9d5-f122-4ff7-cc10-f265c926ab05"
      },
      "source": [
        "np.random.seed(42)\n",
        "np.random.randint(100, size = 10)"
      ],
      "execution_count": 3,
      "outputs": [
        {
          "output_type": "execute_result",
          "data": {
            "text/plain": [
              "array([51, 92, 14, 71, 60, 20, 82, 86, 74, 74])"
            ]
          },
          "metadata": {
            "tags": []
          },
          "execution_count": 3
        }
      ]
    },
    {
      "cell_type": "code",
      "metadata": {
        "colab": {
          "base_uri": "https://localhost:8080/"
        },
        "id": "sZg9ojmIckDR",
        "outputId": "9e3aaec7-6385-4d55-9f54-f7c490c9fe33"
      },
      "source": [
        "np.random.seed(42)\n",
        "\n",
        "n_steps = 50\n",
        "series = generate_time_series(10000, n_steps + 1)\n",
        "X_train, y_train = series[:7000, :n_steps], series[:7000, -1]\n",
        "X_valid, y_valid = series[7000:9000, :n_steps], series[7000:9000, -1]\n",
        "X_test, y_test = series[9000:, :n_steps], series[9000:, -1]\n",
        "X_train.shape, y_train.shape"
      ],
      "execution_count": 4,
      "outputs": [
        {
          "output_type": "execute_result",
          "data": {
            "text/plain": [
              "((7000, 50, 1), (7000, 1))"
            ]
          },
          "metadata": {
            "tags": []
          },
          "execution_count": 4
        }
      ]
    },
    {
      "cell_type": "code",
      "metadata": {
        "id": "8aYEfierdEdP"
      },
      "source": [
        "def plot_series(series, y=None, y_pred=None, x_label=\"$t$\", y_label=\"$x(t)$\"):\n",
        "  n_steps = series.shape[0]\n",
        "  plt.plot(series, \".-\", label='x')\n",
        "  if y is not None:\n",
        "    plt.plot(n_steps, y, \"bx\", label='actual y', markersize=10)\n",
        "  if y_pred is not None:\n",
        "    plt.plot(n_steps, y_pred, \"ro\", label=\"predicted y\")\n",
        "  plt.grid(True)\n",
        "  if x_label:\n",
        "    plt.xlabel(x_label, fontsize=16)\n",
        "  if y_label:\n",
        "    plt.ylabel(y_label, fontsize=16, rotation=0)\n",
        "  plt.hlines(0, 0, 100, linewidth=1)\n",
        "  plt.axis([0, n_steps + 1, None, None])\n",
        "  plt.legend()"
      ],
      "execution_count": 5,
      "outputs": []
    },
    {
      "cell_type": "code",
      "metadata": {
        "id": "HnTIl_nmdJwi"
      },
      "source": [
        "def plot_multiple_forecasts(X, Y, Y_pred):\n",
        "  n_steps = X.shape[1]\n",
        "  ahead = Y.shape[1]\n",
        "  plot_series(X[0, :, 0])\n",
        "  plt.plot(np.arange(n_steps, n_steps + ahead), Y[0, :, 0], \"ro-\", label=\"Actual\")\n",
        "  plt.plot(np.arange(n_steps, n_steps + ahead), Y_pred[0, :, 0], \"bx-\", label=\"Forecast\", markersize=10)\n",
        "  plt.axis([0, n_steps + ahead, None, None])\n",
        "  plt.legend(fontsize=14)"
      ],
      "execution_count": 6,
      "outputs": []
    },
    {
      "cell_type": "code",
      "metadata": {
        "id": "VJ2oRJSCdNhB"
      },
      "source": [
        "def plot_learning_curves(loss, val_loss):\n",
        "  plt.plot(np.arange(len(loss)) + 0.5, loss, \"b.-\", label=\"Training loss\")\n",
        "  plt.plot(np.arange(len(val_loss)) + 1, val_loss, \"r.-\", label=\"Validation loss\")\n",
        "  plt.gca().xaxis.set_major_locator(mpl.ticker.MaxNLocator(integer=True))\n",
        "  plt.axis([1, 20, None, None])\n",
        "  plt.legend(fontsize=14)\n",
        "  plt.xlabel(\"Epochs\")\n",
        "  plt.ylabel(\"Loss\")\n",
        "  plt.grid(True)"
      ],
      "execution_count": 7,
      "outputs": []
    },
    {
      "cell_type": "code",
      "metadata": {
        "id": "aoCJQzF9dQbB"
      },
      "source": [
        "from tensorflow.keras.utils import plot_model"
      ],
      "execution_count": 8,
      "outputs": []
    },
    {
      "cell_type": "code",
      "metadata": {
        "id": "G_4QE-ixeEq0"
      },
      "source": [
        "import sys\n",
        "import sklearn\n",
        "import tensorflow as tf\n",
        "from tensorflow import keras\n",
        "assert tf.__version__>= \"2.0\"\n",
        "\n",
        "import numpy as np\n",
        "import os\n",
        "from pathlib import Path\n",
        "\n",
        "from tensorflow.keras.utils import plot_model\n",
        "\n",
        "np.random.seed(42)\n",
        "tf.random.set_seed(42)\n",
        "\n",
        "%matplotlib inline\n",
        "import matplotlib as mpl\n",
        "import matplotlib.pyplot as plt\n",
        "mpl.rc('axes', labelsize=14)\n",
        "mpl.rc('xtick', labelsize=12)\n",
        "mpl.rc('ytick', labelsize=12)"
      ],
      "execution_count": 9,
      "outputs": []
    },
    {
      "cell_type": "code",
      "metadata": {
        "colab": {
          "base_uri": "https://localhost:8080/"
        },
        "id": "1lC1MTsHf107",
        "outputId": "5d40725e-c5ad-40d3-ce9a-9f3a1293bf7f"
      },
      "source": [
        "simple_rnn = keras.models.Sequential([\n",
        "  keras.layers.SimpleRNN(1, input_shape=[None, 1])\n",
        "])\n",
        "simple_rnn.compile(loss='mse', optimizer='adam')\n",
        "history = simple_rnn.fit(X_train, y_train, epochs=20, validation_data=(X_valid, y_valid))\n",
        "\n",
        "plot_model(simple_rnn, to_file='model_shapes.png', show_shapes=True)\n",
        "simple_rnn.evaluate(X_valid, y_valid)"
      ],
      "execution_count": 10,
      "outputs": [
        {
          "output_type": "stream",
          "text": [
            "Epoch 1/20\n",
            "219/219 [==============================] - 10s 32ms/step - loss: 0.2033 - val_loss: 0.1331\n",
            "Epoch 2/20\n",
            "219/219 [==============================] - 7s 32ms/step - loss: 0.1000 - val_loss: 0.0863\n",
            "Epoch 3/20\n",
            "219/219 [==============================] - 7s 32ms/step - loss: 0.0747 - val_loss: 0.0694\n",
            "Epoch 4/20\n",
            "219/219 [==============================] - 7s 31ms/step - loss: 0.0612 - val_loss: 0.0575\n",
            "Epoch 5/20\n",
            "219/219 [==============================] - 7s 31ms/step - loss: 0.0516 - val_loss: 0.0489\n",
            "Epoch 6/20\n",
            "219/219 [==============================] - 7s 31ms/step - loss: 0.0445 - val_loss: 0.0424\n",
            "Epoch 7/20\n",
            "219/219 [==============================] - 7s 31ms/step - loss: 0.0391 - val_loss: 0.0374\n",
            "Epoch 8/20\n",
            "219/219 [==============================] - 7s 31ms/step - loss: 0.0349 - val_loss: 0.0333\n",
            "Epoch 9/20\n",
            "219/219 [==============================] - 7s 31ms/step - loss: 0.0314 - val_loss: 0.0301\n",
            "Epoch 10/20\n",
            "219/219 [==============================] - 7s 31ms/step - loss: 0.0286 - val_loss: 0.0274\n",
            "Epoch 11/20\n",
            "219/219 [==============================] - 7s 31ms/step - loss: 0.0262 - val_loss: 0.0251\n",
            "Epoch 12/20\n",
            "219/219 [==============================] - 7s 31ms/step - loss: 0.0241 - val_loss: 0.0231\n",
            "Epoch 13/20\n",
            "219/219 [==============================] - 7s 31ms/step - loss: 0.0224 - val_loss: 0.0214\n",
            "Epoch 14/20\n",
            "219/219 [==============================] - 7s 31ms/step - loss: 0.0208 - val_loss: 0.0199\n",
            "Epoch 15/20\n",
            "219/219 [==============================] - 7s 32ms/step - loss: 0.0195 - val_loss: 0.0186\n",
            "Epoch 16/20\n",
            "219/219 [==============================] - 7s 31ms/step - loss: 0.0183 - val_loss: 0.0175\n",
            "Epoch 17/20\n",
            "219/219 [==============================] - 7s 32ms/step - loss: 0.0173 - val_loss: 0.0165\n",
            "Epoch 18/20\n",
            "219/219 [==============================] - 7s 32ms/step - loss: 0.0163 - val_loss: 0.0156\n",
            "Epoch 19/20\n",
            "219/219 [==============================] - 7s 31ms/step - loss: 0.0155 - val_loss: 0.0148\n",
            "Epoch 20/20\n",
            "219/219 [==============================] - 7s 31ms/step - loss: 0.0148 - val_loss: 0.0141\n",
            "63/63 [==============================] - 0s 5ms/step - loss: 0.0141\n"
          ],
          "name": "stdout"
        },
        {
          "output_type": "execute_result",
          "data": {
            "text/plain": [
              "0.014119226485490799"
            ]
          },
          "metadata": {
            "tags": []
          },
          "execution_count": 10
        }
      ]
    },
    {
      "cell_type": "code",
      "metadata": {
        "id": "Pp6ucvVBgP1q",
        "colab": {
          "base_uri": "https://localhost:8080/",
          "height": 303
        },
        "outputId": "caf5624b-964b-4369-f312-a307b379651e"
      },
      "source": [
        "plot_learning_curves(history.history[\"loss\"], history.history[\"val_loss\"])\n",
        "plt.show"
      ],
      "execution_count": 11,
      "outputs": [
        {
          "output_type": "execute_result",
          "data": {
            "text/plain": [
              "<function matplotlib.pyplot.show>"
            ]
          },
          "metadata": {
            "tags": []
          },
          "execution_count": 11
        },
        {
          "output_type": "display_data",
          "data": {
            "image/png": "[encoded data removed]",
            "text/plain": [
              "<Figure size 432x288 with 1 Axes>"
            ]
          },
          "metadata": {
            "tags": [],
            "needs_background": "light"
          }
        }
      ]
    },
    {
      "cell_type": "code",
      "metadata": {
        "id": "zAZ_BfMygYpd",
        "colab": {
          "base_uri": "https://localhost:8080/",
          "height": 288
        },
        "outputId": "d3abea43-e7dc-42d8-fafa-496d0a17b811"
      },
      "source": [
        "y_pred = simple_rnn.predict(X_test)\n",
        "plot_series(X_test[0, :, 0], y_valid[0, :], y_pred[0, :])\n",
        "plt.show()"
      ],
      "execution_count": 12,
      "outputs": [
        {
          "output_type": "display_data",
          "data": {
            "image/png": "[encoded data removed]",
            "text/plain": [
              "<Figure size 432x288 with 1 Axes>"
            ]
          },
          "metadata": {
            "tags": [],
            "needs_background": "light"
          }
        }
      ]
    },
    {
      "cell_type": "markdown",
      "metadata": {
        "id": "EkKhitwBglTA"
      },
      "source": [
        "#exercise 2"
      ]
    },
    {
      "cell_type": "code",
      "metadata": {
        "colab": {
          "base_uri": "https://localhost:8080/"
        },
        "id": "qRO8VCSsgoW6",
        "outputId": "0ca7df1b-493b-4a81-b7c5-c88b0886567a"
      },
      "source": [
        "deep_rnn = keras.models.Sequential([\n",
        "  keras.layers.SimpleRNN(20, return_sequences=True, input_shape=[None, 1]),\n",
        "  keras.layers.SimpleRNN(20, return_sequences=True),\n",
        "  keras.layers.SimpleRNN(1)\n",
        "])\n",
        "deep_rnn.compile(loss='mse', optimizer='adam')\n",
        "history = deep_rnn.fit(X_train, y_train, epochs=20, validation_data=(X_valid, y_valid))\n"
      ],
      "execution_count": null,
      "outputs": [
        {
          "output_type": "stream",
          "text": [
            "Epoch 1/20\n",
            "219/219 [==============================] - 37s 161ms/step - loss: 0.0322 - val_loss: 0.0124\n",
            "Epoch 2/20\n",
            "219/219 [==============================] - 34s 157ms/step - loss: 0.0083 - val_loss: 0.0058\n",
            "Epoch 3/20\n",
            "219/219 [==============================] - 34s 157ms/step - loss: 0.0056 - val_loss: 0.0052\n",
            "Epoch 4/20\n",
            "219/219 [==============================] - 35s 158ms/step - loss: 0.0045 - val_loss: 0.0068\n",
            "Epoch 5/20\n",
            "219/219 [==============================] - 34s 157ms/step - loss: 0.0043 - val_loss: 0.0037\n",
            "Epoch 6/20\n",
            "219/219 [==============================] - 34s 157ms/step - loss: 0.0040 - val_loss: 0.0049\n",
            "Epoch 7/20\n",
            "219/219 [==============================] - 34s 157ms/step - loss: 0.0040 - val_loss: 0.0041\n",
            "Epoch 8/20\n",
            "219/219 [==============================] - 35s 158ms/step - loss: 0.0039 - val_loss: 0.0035\n",
            "Epoch 9/20\n",
            "219/219 [==============================] - 34s 157ms/step - loss: 0.0038 - val_loss: 0.0034\n",
            "Epoch 10/20\n",
            "219/219 [==============================] - 34s 154ms/step - loss: 0.0035 - val_loss: 0.0037\n",
            "Epoch 11/20\n",
            "219/219 [==============================] - 35s 158ms/step - loss: 0.0036 - val_loss: 0.0037\n",
            "Epoch 12/20\n",
            "219/219 [==============================] - 35s 158ms/step - loss: 0.0036 - val_loss: 0.0032\n",
            "Epoch 13/20\n",
            "219/219 [==============================] - 34s 155ms/step - loss: 0.0035 - val_loss: 0.0033\n",
            "Epoch 14/20\n",
            "219/219 [==============================] - 35s 159ms/step - loss: 0.0035 - val_loss: 0.0031\n",
            "Epoch 15/20\n",
            "219/219 [==============================] - 34s 158ms/step - loss: 0.0034 - val_loss: 0.0035\n",
            "Epoch 16/20\n",
            "219/219 [==============================] - 34s 156ms/step - loss: 0.0036 - val_loss: 0.0033\n",
            "Epoch 17/20\n",
            "219/219 [==============================] - 34s 156ms/step - loss: 0.0034 - val_loss: 0.0039\n",
            "Epoch 18/20\n",
            "219/219 [==============================] - 35s 159ms/step - loss: 0.0034 - val_loss: 0.0031\n",
            "Epoch 19/20\n",
            "219/219 [==============================] - 34s 157ms/step - loss: 0.0033 - val_loss: 0.0031\n",
            "Epoch 20/20\n",
            "219/219 [==============================] - 34s 156ms/step - loss: 0.0033 - val_loss: 0.0029\n"
          ],
          "name": "stdout"
        }
      ]
    },
    {
      "cell_type": "code",
      "metadata": {
        "colab": {
          "base_uri": "https://localhost:8080/",
          "height": 286
        },
        "id": "yd6hqQTFhEEi",
        "outputId": "ced4a5c8-5587-4d1c-fc67-591a3dafda5a"
      },
      "source": [
        "plot_learning_curves(history.history[\"loss\"], history.history[\"val_loss\"])\n",
        "plt.show()"
      ],
      "execution_count": null,
      "outputs": [
        {
          "output_type": "display_data",
          "data": {
            "image/png": "[encoded data removed]",
            "text/plain": [
              "<Figure size 432x288 with 1 Axes>"
            ]
          },
          "metadata": {
            "tags": [],
            "needs_background": "light"
          }
        }
      ]
    },
    {
      "cell_type": "code",
      "metadata": {
        "colab": {
          "base_uri": "https://localhost:8080/",
          "height": 293
        },
        "id": "eBflZmwlhPoa",
        "outputId": "2d960ead-c4f3-4cf6-8a7c-32ae2f009b19"
      },
      "source": [
        "y_pred = deep_rnn.predict(X_valid)\n",
        "plot_series(X_valid[0, :, 0], y_valid[0, 0], y_pred[0, 0])\n",
        "plt.show()"
      ],
      "execution_count": null,
      "outputs": [
        {
          "output_type": "display_data",
          "data": {
            "image/png": "[encoded data removed]",
            "text/plain": [
              "<Figure size 432x288 with 1 Axes>"
            ]
          },
          "metadata": {
            "tags": [],
            "needs_background": "light"
          }
        }
      ]
    },
    {
      "cell_type": "markdown",
      "metadata": {
        "id": "lRQeqaNbh08v"
      },
      "source": [
        "#3"
      ]
    },
    {
      "cell_type": "code",
      "metadata": {
        "colab": {
          "base_uri": "https://localhost:8080/"
        },
        "id": "9MW21uo6hnpz",
        "outputId": "db901eed-914b-473b-a9a0-ab697346c9cb"
      },
      "source": [
        "deep_rnn_dense = keras.models.Sequential([\n",
        "  keras.layers.SimpleRNN(20, return_sequences=True, input_shape=[None, 1]),\n",
        "  keras.layers.SimpleRNN(20),\n",
        "  keras.layers.Dense(1)\n",
        "])\n",
        "deep_rnn_dense.compile(loss='mse', optimizer='adam')\n",
        "history = deep_rnn_dense.fit(X_train, y_train, epochs=20, validation_data=(X_valid,y_valid))\n"
      ],
      "execution_count": null,
      "outputs": [
        {
          "output_type": "stream",
          "text": [
            "Epoch 1/20\n",
            "219/219 [==============================] - 24s 103ms/step - loss: 0.0260 - val_loss: 0.0052\n",
            "Epoch 2/20\n",
            "219/219 [==============================] - 23s 103ms/step - loss: 0.0041 - val_loss: 0.0036\n",
            "Epoch 3/20\n",
            "219/219 [==============================] - 22s 102ms/step - loss: 0.0033 - val_loss: 0.0031\n",
            "Epoch 4/20\n",
            "219/219 [==============================] - 22s 102ms/step - loss: 0.0032 - val_loss: 0.0031\n",
            "Epoch 5/20\n",
            "219/219 [==============================] - 23s 103ms/step - loss: 0.0031 - val_loss: 0.0032\n",
            "Epoch 6/20\n",
            "219/219 [==============================] - 23s 103ms/step - loss: 0.0030 - val_loss: 0.0029\n",
            "Epoch 7/20\n",
            "219/219 [==============================] - 23s 103ms/step - loss: 0.0030 - val_loss: 0.0029\n",
            "Epoch 8/20\n",
            "219/219 [==============================] - 22s 103ms/step - loss: 0.0031 - val_loss: 0.0030\n",
            "Epoch 9/20\n",
            "219/219 [==============================] - 23s 103ms/step - loss: 0.0030 - val_loss: 0.0027\n",
            "Epoch 10/20\n",
            "219/219 [==============================] - 23s 103ms/step - loss: 0.0029 - val_loss: 0.0028\n",
            "Epoch 11/20\n",
            "219/219 [==============================] - 22s 102ms/step - loss: 0.0029 - val_loss: 0.0027\n",
            "Epoch 12/20\n",
            "219/219 [==============================] - 22s 102ms/step - loss: 0.0029 - val_loss: 0.0028\n",
            "Epoch 13/20\n",
            "219/219 [==============================] - 22s 103ms/step - loss: 0.0029 - val_loss: 0.0027\n",
            "Epoch 14/20\n",
            "219/219 [==============================] - 23s 103ms/step - loss: 0.0029 - val_loss: 0.0027\n",
            "Epoch 15/20\n",
            "219/219 [==============================] - 23s 103ms/step - loss: 0.0029 - val_loss: 0.0031\n",
            "Epoch 16/20\n",
            "219/219 [==============================] - 23s 103ms/step - loss: 0.0030 - val_loss: 0.0026\n",
            "Epoch 17/20\n",
            "219/219 [==============================] - 23s 103ms/step - loss: 0.0028 - val_loss: 0.0026\n",
            "Epoch 18/20\n",
            "219/219 [==============================] - 22s 103ms/step - loss: 0.0028 - val_loss: 0.0026\n",
            "Epoch 19/20\n",
            "219/219 [==============================] - 23s 104ms/step - loss: 0.0028 - val_loss: 0.0026\n",
            "Epoch 20/20\n",
            "219/219 [==============================] - 23s 104ms/step - loss: 0.0028 - val_loss: 0.0026\n"
          ],
          "name": "stdout"
        }
      ]
    },
    {
      "cell_type": "code",
      "metadata": {
        "colab": {
          "base_uri": "https://localhost:8080/",
          "height": 286
        },
        "id": "UPAHcAV1iH_f",
        "outputId": "eac92a80-2bb2-4fe1-e5af-780ad7989282"
      },
      "source": [
        "plot_learning_curves(history.history[\"loss\"], history.history[\"val_loss\"])\n",
        "plt.show()"
      ],
      "execution_count": null,
      "outputs": [
        {
          "output_type": "display_data",
          "data": {
            "image/png": "[encoded data removed]",
            "text/plain": [
              "<Figure size 432x288 with 1 Axes>"
            ]
          },
          "metadata": {
            "tags": [],
            "needs_background": "light"
          }
        }
      ]
    },
    {
      "cell_type": "code",
      "metadata": {
        "colab": {
          "base_uri": "https://localhost:8080/",
          "height": 293
        },
        "id": "TqtR8qWsiLxE",
        "outputId": "217b721d-08a7-4d6f-a8fc-f09fa2b3f36b"
      },
      "source": [
        "y_pred = deep_rnn_dense.predict(X_valid)\n",
        "plot_series(X_valid[0, :, 0], y_valid[0, 0], y_pred[0, 0])\n",
        "plt.show()\n"
      ],
      "execution_count": null,
      "outputs": [
        {
          "output_type": "display_data",
          "data": {
            "image/png": "[encoded data removed]",
            "text/plain": [
              "<Figure size 432x288 with 1 Axes>"
            ]
          },
          "metadata": {
            "tags": [],
            "needs_background": "light"
          }
        }
      ]
    },
    {
      "cell_type": "markdown",
      "metadata": {
        "id": "Xxdj4ayDik3X"
      },
      "source": [
        "#4"
      ]
    },
    {
      "cell_type": "code",
      "metadata": {
        "colab": {
          "base_uri": "https://localhost:8080/"
        },
        "id": "rQv177Q5iYVS",
        "outputId": "cbbaab08-8e3b-4eb6-c48d-2a396eb268ac"
      },
      "source": [
        "np.random.seed(43)\n",
        "\n",
        "series = generate_time_series(1, n_steps + 10)\n",
        "X_new, Y_new = series[:, :n_steps], series[:, n_steps:]\n",
        "X = X_new\n",
        "\n",
        "for step_ahead in range(10):\n",
        "  print(\"{}\".format(step_ahead), \"iteration's X shape : \",X.shape, \"Used data index :\", \"{} - {}\".format(step_ahead, X.shape[1]-1))\n",
        "  y_pred_one = deep_rnn_dense.predict(X[:, step_ahead:])[:, np.newaxis, :]\n",
        "  X = np.concatenate([X, y_pred_one], axis=1)\n"
      ],
      "execution_count": null,
      "outputs": [
        {
          "output_type": "stream",
          "text": [
            "0 iteration's X shape :  (1, 50, 1) Used data index : 0 - 49\n",
            "1 iteration's X shape :  (1, 51, 1) Used data index : 1 - 50\n",
            "2 iteration's X shape :  (1, 52, 1) Used data index : 2 - 51\n",
            "3 iteration's X shape :  (1, 53, 1) Used data index : 3 - 52\n",
            "4 iteration's X shape :  (1, 54, 1) Used data index : 4 - 53\n",
            "5 iteration's X shape :  (1, 55, 1) Used data index : 5 - 54\n",
            "6 iteration's X shape :  (1, 56, 1) Used data index : 6 - 55\n",
            "7 iteration's X shape :  (1, 57, 1) Used data index : 7 - 56\n",
            "8 iteration's X shape :  (1, 58, 1) Used data index : 8 - 57\n",
            "9 iteration's X shape :  (1, 59, 1) Used data index : 9 - 58\n"
          ],
          "name": "stdout"
        }
      ]
    },
    {
      "cell_type": "code",
      "metadata": {
        "id": "O4KBiyhBkfUL"
      },
      "source": [
        "np.random.seed(42)\n",
        "tf.random.set_seed(42)\n",
        "\n",
        "n_steps = 50\n",
        "series = generate_time_series(10000, n_steps + 10)\n",
        "X_train, Y_train = series[:7000, :n_steps], series[:7000, -10:, 0]\n",
        "X_valid, Y_valid = series[7000:9000, :n_steps], series[7000:9000, -10:, 0]\n",
        "X_test, Y_test = series[9000:, :n_steps], series[9000:, -10:, 0]"
      ],
      "execution_count": null,
      "outputs": []
    },
    {
      "cell_type": "code",
      "metadata": {
        "colab": {
          "base_uri": "https://localhost:8080/"
        },
        "id": "WNviBv3Bkzbu",
        "outputId": "3e7a2e8b-6ed1-4408-d799-f0269a1723da"
      },
      "source": [
        "print(X_train.shape, Y_train.shape)\n",
        "print(X_valid.shape, Y_valid.shape)\n",
        "print(X_test.shape, Y_test.shape)"
      ],
      "execution_count": null,
      "outputs": [
        {
          "output_type": "stream",
          "text": [
            "(7000, 50, 1) (7000, 10)\n",
            "(2000, 50, 1) (2000, 10)\n",
            "(1000, 50, 1) (1000, 10)\n"
          ],
          "name": "stdout"
        }
      ]
    },
    {
      "cell_type": "code",
      "metadata": {
        "id": "UsSVM_NElHyW"
      },
      "source": [
        "way2 = keras.models.Sequential([\n",
        "  keras.layers.SimpleRNN(20,return_sequences=True, input_shape=[None, 1]),\n",
        "  keras.layers.SimpleRNN(20),\n",
        "  keras.layers.Dense(10)\n",
        "])"
      ],
      "execution_count": null,
      "outputs": []
    },
    {
      "cell_type": "code",
      "metadata": {
        "id": "E00Q9L-ulTTx"
      },
      "source": [
        "np.random.seed(43)\n",
        "\n",
        "series = generate_time_series(1, 50 + 10)\n",
        "X_new, Y_new = series[:, :50, :], series[:, -10:, :]\n",
        "Y_pred = way2.predict(X_new)[..., np.newaxis]"
      ],
      "execution_count": null,
      "outputs": []
    },
    {
      "cell_type": "code",
      "metadata": {
        "colab": {
          "base_uri": "https://localhost:8080/",
          "height": 288
        },
        "id": "WmMOBZG6l9sz",
        "outputId": "82ce536f-39c8-44a7-b65f-40906a9de083"
      },
      "source": [
        "plot_multiple_forecasts(X_new, Y_new, Y_pred)\n",
        "plt.show()"
      ],
      "execution_count": null,
      "outputs": [
        {
          "output_type": "display_data",
          "data": {
            "image/png": "[encoded data removed]",
            "text/plain": [
              "<Figure size 432x288 with 1 Axes>"
            ]
          },
          "metadata": {
            "tags": [],
            "needs_background": "light"
          }
        }
      ]
    },
    {
      "cell_type": "code",
      "metadata": {
        "id": "IM26FyFjmG18"
      },
      "source": [
        "def last_time_step_mse(Y_true, Y_pred):\n",
        "  return keras.metrics.mean_squared_error(Y_true[:, -1], Y_pred[:, -1])"
      ],
      "execution_count": null,
      "outputs": []
    },
    {
      "cell_type": "code",
      "metadata": {
        "id": "B-ebnUn2mKv9"
      },
      "source": [
        "np.random.seed(42)\n",
        "tf.random.set_seed(42)\n",
        "\n",
        "way3 = keras.models.Sequential([\n",
        "  keras.layers.SimpleRNN(20, return_sequences=True, input_shape=[None, 1]),\n",
        "  keras.layers.SimpleRNN(20, return_sequences=True),\n",
        "  keras.layers.TimeDistributed(keras.layers.Dense(10))\n",
        "])"
      ],
      "execution_count": null,
      "outputs": []
    },
    {
      "cell_type": "code",
      "metadata": {
        "colab": {
          "base_uri": "https://localhost:8080/"
        },
        "id": "_C9lKnqSmwhJ",
        "outputId": "39e487e5-1acb-488a-b898-01d08347df9f"
      },
      "source": [
        "np.random.seed(42)\n",
        "\n",
        "n_steps = 50\n",
        "series = generate_time_series(10000, n_steps + 10)\n",
        "\n",
        "X_train = series[:7000, :n_steps]\n",
        "X_valid = series[7000:9000, :n_steps]\n",
        "X_test = series[9000:, :n_steps]\n",
        "\n",
        "Y = np.empty((10000, n_steps, 10)) # each target is a sequence of 10D vectors\n",
        "for step_ahead in range(1, 10 + 1):\n",
        "  Y[:, :, step_ahead - 1] = series[:, step_ahead:step_ahead + n_steps, 0]\n",
        "Y_train = Y[:7000]\n",
        "Y_valid = Y[7000:9000]\n",
        "Y_test = Y[9000:]\n",
        "\n",
        "X_train.shape, Y_train.shape"
      ],
      "execution_count": null,
      "outputs": [
        {
          "output_type": "execute_result",
          "data": {
            "text/plain": [
              "((7000, 50, 1), (7000, 50, 10))"
            ]
          },
          "metadata": {
            "tags": []
          },
          "execution_count": 32
        }
      ]
    },
    {
      "cell_type": "code",
      "metadata": {
        "id": "FwWEkmTRnYuo"
      },
      "source": [
        "np.random.seed(43)\n",
        "\n",
        "series = generate_time_series(1, 50+10)\n",
        "X_new, Y_new = series[:,:50,:], series[:,50:, :]\n",
        "Y_pred = way3.predict(X_new)[:,-1][...,np.newaxis]"
      ],
      "execution_count": null,
      "outputs": []
    },
    {
      "cell_type": "markdown",
      "metadata": {
        "id": "jzVcc-6Yn6uH"
      },
      "source": [
        "#5"
      ]
    },
    {
      "cell_type": "code",
      "metadata": {
        "colab": {
          "base_uri": "https://localhost:8080/"
        },
        "id": "cRzyGOYfn5x3",
        "outputId": "dc31cec5-9715-4d3b-deab-43df6e387420"
      },
      "source": [
        "np.random.seed(42)\n",
        "tf.random.set_seed(42)\n",
        "\n",
        "lstm = keras.models.Sequential([\n",
        "  keras.layers.LSTM(20, return_sequences=True, input_shape=[None, 1]),\n",
        "  keras.layers.LSTM(20, return_sequences=True),\n",
        "  keras.layers.TimeDistributed(keras.layers.Dense(10))\n",
        "])\n",
        "lstm.compile(loss=\"mse\", optimizer=\"adam\", metrics=[last_time_step_mse])\n",
        "history = lstm.fit(X_train, Y_train, epochs=20,validation_data=(X_valid, Y_valid))"
      ],
      "execution_count": null,
      "outputs": [
        {
          "output_type": "stream",
          "text": [
            "Epoch 1/20\n",
            "219/219 [==============================] - 11s 27ms/step - loss: 0.0760 - last_time_step_mse: 0.0615 - val_loss: 0.0554 - val_last_time_step_mse: 0.0364\n",
            "Epoch 2/20\n",
            "219/219 [==============================] - 5s 22ms/step - loss: 0.0480 - last_time_step_mse: 0.0283 - val_loss: 0.0427 - val_last_time_step_mse: 0.0222\n",
            "Epoch 3/20\n",
            "219/219 [==============================] - 5s 22ms/step - loss: 0.0391 - last_time_step_mse: 0.0181 - val_loss: 0.0367 - val_last_time_step_mse: 0.0157\n",
            "Epoch 4/20\n",
            "219/219 [==============================] - 5s 22ms/step - loss: 0.0350 - last_time_step_mse: 0.0151 - val_loss: 0.0334 - val_last_time_step_mse: 0.0132\n",
            "Epoch 5/20\n",
            "219/219 [==============================] - 5s 22ms/step - loss: 0.0325 - last_time_step_mse: 0.0133 - val_loss: 0.0314 - val_last_time_step_mse: 0.0121\n",
            "Epoch 6/20\n",
            "219/219 [==============================] - 5s 22ms/step - loss: 0.0308 - last_time_step_mse: 0.0122 - val_loss: 0.0298 - val_last_time_step_mse: 0.0112\n",
            "Epoch 7/20\n",
            "219/219 [==============================] - 5s 22ms/step - loss: 0.0297 - last_time_step_mse: 0.0118 - val_loss: 0.0291 - val_last_time_step_mse: 0.0120\n",
            "Epoch 8/20\n",
            "219/219 [==============================] - 5s 22ms/step - loss: 0.0286 - last_time_step_mse: 0.0109 - val_loss: 0.0278 - val_last_time_step_mse: 0.0099\n",
            "Epoch 9/20\n",
            "219/219 [==============================] - 5s 22ms/step - loss: 0.0280 - last_time_step_mse: 0.0108 - val_loss: 0.0278 - val_last_time_step_mse: 0.0113\n",
            "Epoch 10/20\n",
            "219/219 [==============================] - 5s 22ms/step - loss: 0.0273 - last_time_step_mse: 0.0105 - val_loss: 0.0268 - val_last_time_step_mse: 0.0101\n",
            "Epoch 11/20\n",
            "219/219 [==============================] - 5s 22ms/step - loss: 0.0269 - last_time_step_mse: 0.0102 - val_loss: 0.0263 - val_last_time_step_mse: 0.0096\n",
            "Epoch 12/20\n",
            "219/219 [==============================] - 5s 22ms/step - loss: 0.0264 - last_time_step_mse: 0.0101 - val_loss: 0.0263 - val_last_time_step_mse: 0.0105\n",
            "Epoch 13/20\n",
            "219/219 [==============================] - 5s 22ms/step - loss: 0.0259 - last_time_step_mse: 0.0097 - val_loss: 0.0257 - val_last_time_step_mse: 0.0100\n",
            "Epoch 14/20\n",
            "219/219 [==============================] - 5s 22ms/step - loss: 0.0257 - last_time_step_mse: 0.0096 - val_loss: 0.0252 - val_last_time_step_mse: 0.0091\n",
            "Epoch 15/20\n",
            "219/219 [==============================] - 5s 22ms/step - loss: 0.0253 - last_time_step_mse: 0.0095 - val_loss: 0.0251 - val_last_time_step_mse: 0.0092\n",
            "Epoch 16/20\n",
            "219/219 [==============================] - 5s 22ms/step - loss: 0.0251 - last_time_step_mse: 0.0095 - val_loss: 0.0248 - val_last_time_step_mse: 0.0089\n",
            "Epoch 17/20\n",
            "219/219 [==============================] - 5s 22ms/step - loss: 0.0248 - last_time_step_mse: 0.0094 - val_loss: 0.0248 - val_last_time_step_mse: 0.0098\n",
            "Epoch 18/20\n",
            "219/219 [==============================] - 5s 23ms/step - loss: 0.0245 - last_time_step_mse: 0.0093 - val_loss: 0.0246 - val_last_time_step_mse: 0.0091\n",
            "Epoch 19/20\n",
            "219/219 [==============================] - 5s 22ms/step - loss: 0.0242 - last_time_step_mse: 0.0091 - val_loss: 0.0238 - val_last_time_step_mse: 0.0085\n",
            "Epoch 20/20\n",
            "219/219 [==============================] - 5s 22ms/step - loss: 0.0239 - last_time_step_mse: 0.0089 - val_loss: 0.0238 - val_last_time_step_mse: 0.0086\n"
          ],
          "name": "stdout"
        }
      ]
    },
    {
      "cell_type": "code",
      "metadata": {
        "colab": {
          "base_uri": "https://localhost:8080/"
        },
        "id": "IzFeZuZToRWu",
        "outputId": "4be75f07-ddd3-46c6-a10c-2f5a7844fbb2"
      },
      "source": [
        "np.random.seed(42)\n",
        "\n",
        "n_steps = 50\n",
        "series = generate_time_series(10000, n_steps + 10)\n",
        "\n",
        "X_train = series[:7000, :n_steps]\n",
        "X_valid = series[7000:9000, :n_steps]\n",
        "X_test = series[9000:, :n_steps]\n",
        "\n",
        "Y = np.empty((10000, n_steps, 10)) # each target is a sequence of 10D vectors\n",
        "for step_ahead in range(1, 10 + 1):\n",
        "  Y[:, :, step_ahead - 1] = series[:, step_ahead:step_ahead + n_steps, 0]\n",
        "Y_train = Y[:7000]\n",
        "Y_valid = Y[7000:9000]\n",
        "Y_test = Y[9000:]\n",
        "\n",
        "X_train.shape, Y_train.shape"
      ],
      "execution_count": null,
      "outputs": [
        {
          "output_type": "execute_result",
          "data": {
            "text/plain": [
              "((7000, 50, 1), (7000, 50, 10))"
            ]
          },
          "metadata": {
            "tags": []
          },
          "execution_count": 35
        }
      ]
    },
    {
      "cell_type": "code",
      "metadata": {
        "id": "14FERU50sJ3k"
      },
      "source": [
        "np.random.seed(43)\n",
        "\n",
        "series = generate_time_series(1, 50 + 10)\n",
        "X_new, Y_new = series[:, :50, :], series[:, -10:, :]\n",
        "Y_pred = lstm.predict(X_new)[:,-1][..., np.newaxis]"
      ],
      "execution_count": null,
      "outputs": []
    },
    {
      "cell_type": "code",
      "metadata": {
        "colab": {
          "base_uri": "https://localhost:8080/",
          "height": 291
        },
        "id": "Fgz7y9KZseRe",
        "outputId": "36f51dc0-9075-4b55-8e87-75bb596b2ad1"
      },
      "source": [
        "plot_multiple_forecasts(X_new, Y_new, Y_pred)\n",
        "plt.show()"
      ],
      "execution_count": null,
      "outputs": [
        {
          "output_type": "display_data",
          "data": {
            "image/png": "[encoded data removed]",
            "text/plain": [
              "<Figure size 432x288 with 1 Axes>"
            ]
          },
          "metadata": {
            "tags": [],
            "needs_background": "light"
          }
        }
      ]
    },
    {
      "cell_type": "markdown",
      "metadata": {
        "id": "K24k2boLuV_t"
      },
      "source": [
        "#6"
      ]
    },
    {
      "cell_type": "code",
      "metadata": {
        "colab": {
          "base_uri": "https://localhost:8080/"
        },
        "id": "v7GRJQMbvhRB",
        "outputId": "e124ab6d-e422-4266-ae95-79f956d578e2"
      },
      "source": [
        "shakespeare_url = \"https://homl.info/shakespeare\" # shortcut URL\n",
        "filepath = keras.utils.get_file(\"shakespeare.txt\", shakespeare_url)\n",
        "with open(filepath) as f:\n",
        "  shakespeare_text = f.read()"
      ],
      "execution_count": null,
      "outputs": [
        {
          "output_type": "stream",
          "text": [
            "Downloading data from https://homl.info/shakespeare\n",
            "1122304/1115394 [==============================] - 0s 0us/step\n"
          ],
          "name": "stdout"
        }
      ]
    },
    {
      "cell_type": "code",
      "metadata": {
        "colab": {
          "base_uri": "https://localhost:8080/"
        },
        "id": "3gTrgid_vrPl",
        "outputId": "4bdf35bd-23b3-40fd-8f16-c044e497c0ba"
      },
      "source": [
        "len(shakespeare_text)"
      ],
      "execution_count": null,
      "outputs": [
        {
          "output_type": "execute_result",
          "data": {
            "text/plain": [
              "1115394"
            ]
          },
          "metadata": {
            "tags": []
          },
          "execution_count": 54
        }
      ]
    },
    {
      "cell_type": "code",
      "metadata": {
        "id": "T2SUMwWAvj2k"
      },
      "source": [
        "tokenizer = keras.preprocessing.text.Tokenizer(char_level=True)\n",
        "tokenizer.fit_on_texts(shakespeare_text)"
      ],
      "execution_count": null,
      "outputs": []
    },
    {
      "cell_type": "code",
      "metadata": {
        "colab": {
          "base_uri": "https://localhost:8080/"
        },
        "id": "GKKoknhysiHp",
        "outputId": "ca75c360-ce1d-410c-dd5d-402e62f0f9b4"
      },
      "source": [
        "print(shakespeare_text[1000:1500])"
      ],
      "execution_count": null,
      "outputs": [
        {
          "output_type": "stream",
          "text": [
            "Second Citizen:\n",
            "Would you proceed especially against Caius Marcius?\n",
            "\n",
            "All:\n",
            "Against him first: he's a very dog to the commonalty.\n",
            "\n",
            "Second Citizen:\n",
            "Consider you what services he has done for his country?\n",
            "\n",
            "First Citizen:\n",
            "Very well; and could be content to give him good\n",
            "report fort, but that he pays himself with being proud.\n",
            "\n",
            "Second Citizen:\n",
            "Nay, but speak not maliciously.\n",
            "\n",
            "First Citizen:\n",
            "I say unto you, what he hath done famously, he did\n",
            "it to that end: though soft-conscienced men can be\n",
            "content to \n"
          ],
          "name": "stdout"
        }
      ]
    },
    {
      "cell_type": "code",
      "metadata": {
        "colab": {
          "base_uri": "https://localhost:8080/"
        },
        "id": "IQMvDCLfvzpo",
        "outputId": "4f8d5b4a-ee1f-4dc5-ed5f-3ad8f1d69f98"
      },
      "source": [
        "tokenizer.texts_to_sequences([\"First\"])\n"
      ],
      "execution_count": null,
      "outputs": [
        {
          "output_type": "execute_result",
          "data": {
            "text/plain": [
              "[[20, 6, 9, 8, 3]]"
            ]
          },
          "metadata": {
            "tags": []
          },
          "execution_count": 55
        }
      ]
    },
    {
      "cell_type": "code",
      "metadata": {
        "colab": {
          "base_uri": "https://localhost:8080/"
        },
        "id": "CH6lsdp6v2Zt",
        "outputId": "9a2b17ba-afff-4f75-f111-95529e57fc1a"
      },
      "source": [
        "tokenizer.sequences_to_texts([[20, 6, 9, 8, 3]])"
      ],
      "execution_count": null,
      "outputs": [
        {
          "output_type": "execute_result",
          "data": {
            "text/plain": [
              "['f i r s t']"
            ]
          },
          "metadata": {
            "tags": []
          },
          "execution_count": 56
        }
      ]
    },
    {
      "cell_type": "code",
      "metadata": {
        "colab": {
          "base_uri": "https://localhost:8080/"
        },
        "id": "j2WdJotCv9HP",
        "outputId": "ae38bccb-58dd-47fd-881f-aff9dde83815"
      },
      "source": [
        "tokenizer.texts_to_sequences([\"abcde\"])"
      ],
      "execution_count": null,
      "outputs": [
        {
          "output_type": "execute_result",
          "data": {
            "text/plain": [
              "[[5, 22, 19, 13, 2]]"
            ]
          },
          "metadata": {
            "tags": []
          },
          "execution_count": 59
        }
      ]
    },
    {
      "cell_type": "code",
      "metadata": {
        "id": "A9JhtItBwOlb"
      },
      "source": [
        "[encoded] = np.array(tokenizer.texts_to_sequences([shakespeare_text])) - 1"
      ],
      "execution_count": null,
      "outputs": []
    },
    {
      "cell_type": "code",
      "metadata": {
        "id": "WmcAV3T5wkli"
      },
      "source": [
        "max_id = len(tokenizer.word_index) # number of distinct characters\n",
        "dataset_size = tokenizer.document_count # total number of characters\n"
      ],
      "execution_count": null,
      "outputs": []
    },
    {
      "cell_type": "code",
      "metadata": {
        "id": "1eEJjouBwRkS"
      },
      "source": [
        "train_size = dataset_size * 40 // 100\n",
        "dataset = tf.data.Dataset.from_tensor_slices(encoded[:train_size])"
      ],
      "execution_count": null,
      "outputs": []
    },
    {
      "cell_type": "code",
      "metadata": {
        "id": "1pXlTG0twUhx"
      },
      "source": [
        "n_steps = 100\n",
        "window_length = n_steps + 1 # target = input shifted 1 character ahead\n",
        "dataset = dataset.window(window_length, shift=1, drop_remainder=True)\n"
      ],
      "execution_count": null,
      "outputs": []
    },
    {
      "cell_type": "code",
      "metadata": {
        "id": "YnSlUI32wqfc"
      },
      "source": [
        "dataset = dataset.flat_map(lambda window: window.batch(window_length))"
      ],
      "execution_count": null,
      "outputs": []
    },
    {
      "cell_type": "code",
      "metadata": {
        "id": "YkofQwJox1Vp"
      },
      "source": [
        "batch_size = 32\n",
        "dataset = dataset.shuffle(10000).batch(batch_size)\n",
        "dataset = dataset.map(lambda windows: (windows[:, :-1], windows[:, 1:]))"
      ],
      "execution_count": null,
      "outputs": []
    },
    {
      "cell_type": "code",
      "metadata": {
        "id": "s8XZ4we0x7hB"
      },
      "source": [
        "dataset = dataset.map(\n",
        "  lambda X_batch, Y_batch: (tf.one_hot(X_batch, depth=max_id), Y_batch))"
      ],
      "execution_count": null,
      "outputs": []
    },
    {
      "cell_type": "code",
      "metadata": {
        "id": "kQpxv3J2yBaQ"
      },
      "source": [
        "dataset = dataset.prefetch(1)\n"
      ],
      "execution_count": null,
      "outputs": []
    },
    {
      "cell_type": "code",
      "metadata": {
        "id": "1Ti_sFDqyE78"
      },
      "source": [
        "model = keras.models.Sequential([\n",
        "  keras.layers.LSTM(64, return_sequences=True, input_shape=[None, max_id],\n",
        "                   dropout=0.2, recurrent_dropout=0),\n",
        "  keras.layers.LSTM(64, return_sequences=True,\n",
        "                    dropout=0.2, recurrent_dropout=0),\n",
        "  keras.layers.TimeDistributed(keras.layers.Dense(max_id,\n",
        "                              activation=\"softmax\"))\n",
        "])\n",
        "model.compile(loss=\"sparse_categorical_crossentropy\", optimizer=\"adam\")"
      ],
      "execution_count": null,
      "outputs": []
    },
    {
      "cell_type": "code",
      "metadata": {
        "id": "JzKx8PQgycMB"
      },
      "source": [
        "def preprocess(texts):\n",
        "  X = np.array(tokenizer.texts_to_sequences(texts)) - 1\n",
        "  return tf.one_hot(X, max_id)\n"
      ],
      "execution_count": null,
      "outputs": []
    },
    {
      "cell_type": "code",
      "metadata": {
        "colab": {
          "base_uri": "https://localhost:8080/",
          "height": 104
        },
        "id": "I5r8XsP8yTB8",
        "outputId": "330db95a-106f-4a02-e4f7-a54c9c3c86a9"
      },
      "source": [
        "X_new = preprocess([\"How are yo\"])\n",
        "Y_pred = model.predict_classes(X_new)\n",
        "tokenizer.sequences_to_texts(Y_pred + 1)[0][-1] # 1st sentence, last char"
      ],
      "execution_count": null,
      "outputs": [
        {
          "output_type": "stream",
          "text": [
            "/usr/local/lib/python3.7/dist-packages/tensorflow/python/keras/engine/sequential.py:455: UserWarning: `model.predict_classes()` is deprecated and will be removed after 2021-01-01. Please use instead:* `np.argmax(model.predict(x), axis=-1)`,   if your model does multi-class classification   (e.g. if it uses a `softmax` last-layer activation).* `(model.predict(x) > 0.5).astype(\"int32\")`,   if your model does binary classification   (e.g. if it uses a `sigmoid` last-layer activation).\n",
            "  warnings.warn('`model.predict_classes()` is deprecated and '\n"
          ],
          "name": "stderr"
        },
        {
          "output_type": "stream",
          "text": [
            "WARNING:tensorflow:5 out of the last 77 calls to <function Model.make_predict_function.<locals>.predict_function at 0x7fd200faff80> triggered tf.function retracing. Tracing is expensive and the excessive number of tracings could be due to (1) creating @tf.function repeatedly in a loop, (2) passing tensors with different shapes, (3) passing Python objects instead of tensors. For (1), please define your @tf.function outside of the loop. For (2), @tf.function has experimental_relax_shapes=True option that relaxes argument shapes that can avoid unnecessary retracing. For (3), please refer to https://www.tensorflow.org/guide/function#controlling_retracing and https://www.tensorflow.org/api_docs/python/tf/function for  more details.\n"
          ],
          "name": "stdout"
        },
        {
          "output_type": "execute_result",
          "data": {
            "application/vnd.google.colaboratory.intrinsic+json": {
              "type": "string"
            },
            "text/plain": [
              "'h'"
            ]
          },
          "metadata": {
            "tags": []
          },
          "execution_count": 80
        }
      ]
    },
    {
      "cell_type": "code",
      "metadata": {
        "id": "bsqAr2M7ylcV"
      },
      "source": [
        "def next_char(text, temperature=1):\n",
        "  X_new = preprocess([text])\n",
        "  y_proba = model.predict(X_new)[0, -1:, :]\n",
        "  rescaled_logits = tf.math.log(y_proba) / temperature\n",
        "  char_id = tf.random.categorical(rescaled_logits, num_samples=1) + 1\n",
        "  return tokenizer.sequences_to_texts(char_id.numpy())[0]\n"
      ],
      "execution_count": null,
      "outputs": []
    },
    {
      "cell_type": "code",
      "metadata": {
        "id": "fLtlWL0_ynNR"
      },
      "source": [
        "def complete_text(text, n_chars=50, temperature=1):\n",
        "  for _ in range(n_chars):\n",
        "    text += next_char(text, temperature)\n",
        "  return text"
      ],
      "execution_count": null,
      "outputs": []
    },
    {
      "cell_type": "code",
      "metadata": {
        "colab": {
          "base_uri": "https://localhost:8080/"
        },
        "id": "pWj9eZFKye3s",
        "outputId": "d313bd09-70ac-4b01-c3c8-4392ab53c7f4"
      },
      "source": [
        "print(complete_text(\"t\", temperature=0.2))\n"
      ],
      "execution_count": null,
      "outputs": [
        {
          "output_type": "stream",
          "text": [
            "WARNING:tensorflow:6 out of the last 78 calls to <function Model.make_predict_function.<locals>.predict_function at 0x7fd200faff80> triggered tf.function retracing. Tracing is expensive and the excessive number of tracings could be due to (1) creating @tf.function repeatedly in a loop, (2) passing tensors with different shapes, (3) passing Python objects instead of tensors. For (1), please define your @tf.function outside of the loop. For (2), @tf.function has experimental_relax_shapes=True option that relaxes argument shapes that can avoid unnecessary retracing. For (3), please refer to https://www.tensorflow.org/guide/function#controlling_retracing and https://www.tensorflow.org/api_docs/python/tf/function for  more details.\n",
            "t:;&yoe-3\n",
            "j.&lvj,s-pxh. b:kx:.? woystj3\n",
            "g3cc bp\n",
            "dm;\n"
          ],
          "name": "stdout"
        }
      ]
    },
    {
      "cell_type": "code",
      "metadata": {
        "colab": {
          "base_uri": "https://localhost:8080/"
        },
        "id": "E0cPUDWoy8nT",
        "outputId": "72a564f0-a327-4386-a8b3-4e14eba5c091"
      },
      "source": [
        "print(complete_text(\"w\", temperature=0.2))"
      ],
      "execution_count": null,
      "outputs": [
        {
          "output_type": "stream",
          "text": [
            "w!?$ez?gmjz :3?ljb'va;!td&hi.ur3l'-j!3euq'\n",
            "n?\n",
            "nms3e\n"
          ],
          "name": "stdout"
        }
      ]
    },
    {
      "cell_type": "code",
      "metadata": {
        "colab": {
          "base_uri": "https://localhost:8080/"
        },
        "id": "_QZ6a6z9y-4r",
        "outputId": "387fde14-5b1f-48f3-df2b-2aadcd9f8d05"
      },
      "source": [
        "print(complete_text(\"w\", temperature=3))"
      ],
      "execution_count": null,
      "outputs": [
        {
          "output_type": "stream",
          "text": [
            "w?hebxzwk33qfyzbopkci3,r'g,x:,:qn-grns;w:j,qsn&e:cs\n"
          ],
          "name": "stdout"
        }
      ]
    },
    {
      "cell_type": "markdown",
      "metadata": {
        "id": "ciWJUi4O0yDh"
      },
      "source": [
        "#7"
      ]
    },
    {
      "cell_type": "code",
      "metadata": {
        "id": "GhN3WQC909NI"
      },
      "source": [
        "import keras\n",
        "import os\n",
        "import numpy as np\n",
        "import pandas as pd\n",
        "import matplotlib.pyplot as plt"
      ],
      "execution_count": null,
      "outputs": []
    },
    {
      "cell_type": "code",
      "metadata": {
        "id": "UEJHcpM60zTc"
      },
      "source": [
        "df = pd.read_csv(\"https://raw.githubusercontent.com/eepLearning/AIP2_RNN_LAB_Activity/main/Ulsan_Temp.csv\")"
      ],
      "execution_count": null,
      "outputs": []
    },
    {
      "cell_type": "code",
      "metadata": {
        "colab": {
          "base_uri": "https://localhost:8080/"
        },
        "id": "thYrHex72Qzv",
        "outputId": "082900dc-cf8a-477d-ea4d-81da69efcef0"
      },
      "source": [
        "np.random.seed(42)\n",
        "tf.random.set_seed(42)\n",
        "\n",
        "model = keras.models.Sequential([keras.layers.LSTM(32, return_sequences=True, input_shape = [None, 1]),\n",
        "    keras.layers.LSTM(32),\n",
        "    keras.layers.Dense(16, activation='relu'),\n",
        "    keras.layers.Dense(1)])\n",
        "\n",
        "model.compile(loss='mse', optimizer='adam')\n",
        "history=model.fit(X_train, y_train, epochs=20,\n",
        "                  validation_data=(X_valid, y_valid))\n",
        "\n",
        "\n",
        "\n"
      ],
      "execution_count": null,
      "outputs": [
        {
          "output_type": "stream",
          "text": [
            "Epoch 1/20\n",
            "219/219 [==============================] - 10s 27ms/step - loss: 0.0909 - val_loss: 0.0609\n",
            "Epoch 2/20\n",
            "219/219 [==============================] - 5s 22ms/step - loss: 0.0557 - val_loss: 0.0380\n",
            "Epoch 3/20\n",
            "219/219 [==============================] - 5s 22ms/step - loss: 0.0357 - val_loss: 0.0354\n",
            "Epoch 4/20\n",
            "219/219 [==============================] - 5s 22ms/step - loss: 0.0287 - val_loss: 0.0250\n",
            "Epoch 5/20\n",
            "219/219 [==============================] - 5s 22ms/step - loss: 0.0242 - val_loss: 0.0249\n",
            "Epoch 6/20\n",
            "219/219 [==============================] - 5s 22ms/step - loss: 0.0232 - val_loss: 0.0232\n",
            "Epoch 7/20\n",
            "219/219 [==============================] - 5s 22ms/step - loss: 0.0226 - val_loss: 0.0225\n",
            "Epoch 8/20\n",
            "219/219 [==============================] - 5s 22ms/step - loss: 0.0218 - val_loss: 0.0218\n",
            "Epoch 9/20\n",
            "219/219 [==============================] - 5s 22ms/step - loss: 0.0211 - val_loss: 0.0224\n",
            "Epoch 10/20\n",
            "219/219 [==============================] - 5s 22ms/step - loss: 0.0223 - val_loss: 0.0217\n",
            "Epoch 11/20\n",
            "219/219 [==============================] - 5s 22ms/step - loss: 0.0210 - val_loss: 0.0191\n",
            "Epoch 12/20\n",
            "219/219 [==============================] - 5s 22ms/step - loss: 0.0202 - val_loss: 0.0221\n",
            "Epoch 13/20\n",
            "219/219 [==============================] - 5s 22ms/step - loss: 0.0197 - val_loss: 0.0197\n",
            "Epoch 14/20\n",
            "219/219 [==============================] - 5s 22ms/step - loss: 0.0194 - val_loss: 0.0255\n",
            "Epoch 15/20\n",
            "219/219 [==============================] - 5s 22ms/step - loss: 0.0203 - val_loss: 0.0184\n",
            "Epoch 16/20\n",
            "219/219 [==============================] - 5s 22ms/step - loss: 0.0196 - val_loss: 0.0210\n",
            "Epoch 17/20\n",
            "219/219 [==============================] - 5s 22ms/step - loss: 0.0203 - val_loss: 0.0191\n",
            "Epoch 18/20\n",
            "219/219 [==============================] - 5s 22ms/step - loss: 0.0182 - val_loss: 0.0179\n",
            "Epoch 19/20\n",
            "219/219 [==============================] - 5s 22ms/step - loss: 0.0189 - val_loss: 0.0190\n",
            "Epoch 20/20\n",
            "219/219 [==============================] - 5s 22ms/step - loss: 0.0181 - val_loss: 0.0181\n"
          ],
          "name": "stdout"
        }
      ]
    },
    {
      "cell_type": "code",
      "metadata": {
        "colab": {
          "base_uri": "https://localhost:8080/",
          "height": 286
        },
        "id": "yrDdZWsu23AJ",
        "outputId": "256ab8f1-120a-4311-ee54-20088c2e1923"
      },
      "source": [
        "plot_learning_curves(history.history[\"loss\"], history.history[\"val_loss\"]\n",
        "                     )\n",
        "plt.show()"
      ],
      "execution_count": null,
      "outputs": [
        {
          "output_type": "display_data",
          "data": {
            "image/png": "[encoded data removed]",
            "text/plain": [
              "<Figure size 432x288 with 1 Axes>"
            ]
          },
          "metadata": {
            "tags": [],
            "needs_background": "light"
          }
        }
      ]
    },
    {
      "cell_type": "code",
      "metadata": {
        "colab": {
          "base_uri": "https://localhost:8080/",
          "height": 288
        },
        "id": "a8qIX5Zp3DGA",
        "outputId": "7f249608-fb6d-416d-dd5d-9ecb674e769b"
      },
      "source": [
        "y_pred = model.predict(X_test)\n",
        "plot_series(X_test[0,:,0], y_test[0,0], y_test[0,0])\n",
        "plt.show()"
      ],
      "execution_count": null,
      "outputs": [
        {
          "output_type": "display_data",
          "data": {
            "image/png": "[encoded data removed]",
            "text/plain": [
              "<Figure size 432x288 with 1 Axes>"
            ]
          },
          "metadata": {
            "tags": [],
            "needs_background": "light"
          }
        }
      ]
    },
    {
      "cell_type": "code",
      "metadata": {
        "id": "dFevnxf53RTw"
      },
      "source": [
        "n_steps = 5\n",
        "real_temp = np.array([[26], [25.9], [24.1], [25.1], [25.8]]).reshape(1,n_steps,1)"
      ],
      "execution_count": null,
      "outputs": []
    },
    {
      "cell_type": "code",
      "metadata": {
        "colab": {
          "base_uri": "https://localhost:8080/"
        },
        "id": "BYBPUgE53haX",
        "outputId": "3517a1de-0ef1-4966-a31a-f1013f4f986a"
      },
      "source": [
        "model.predict(real_temp)"
      ],
      "execution_count": null,
      "outputs": [
        {
          "output_type": "execute_result",
          "data": {
            "text/plain": [
              "array([[0.31892303]], dtype=float32)"
            ]
          },
          "metadata": {
            "tags": []
          },
          "execution_count": 105
        }
      ]
    }
  ]
}